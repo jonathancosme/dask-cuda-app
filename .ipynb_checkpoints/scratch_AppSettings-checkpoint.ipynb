{
 "cells": [
  {
   "cell_type": "code",
   "execution_count": 1,
   "id": "ca9133ff-4e14-4e49-aa15-07f4e8d0a193",
   "metadata": {},
   "outputs": [],
   "source": [
    "from AppSettings import AppSettings\n",
    "# from utils.functions import make_cuda_devices_df_file\n",
    "import streamlit as st"
   ]
  },
  {
   "cell_type": "code",
   "execution_count": 2,
   "id": "b90b6c9a-df5e-4a3b-9ac3-9fc9ef331f6a",
   "metadata": {},
   "outputs": [],
   "source": [
    "# make_cuda_devices_df_file()"
   ]
  },
  {
   "cell_type": "code",
   "execution_count": 3,
   "id": "e6403bd4-1c33-4dc1-a9b3-c1ad7fa35b15",
   "metadata": {},
   "outputs": [],
   "source": [
    "app_settings = AppSettings()"
   ]
  },
  {
   "cell_type": "code",
   "execution_count": 4,
   "id": "2dd7ab83-b214-4b4b-8299-439176dc5ef2",
   "metadata": {},
   "outputs": [
    {
     "data": {
      "text/plain": [
       "[{'arg': 'host',\n",
       "  'type': str,\n",
       "  'options': None,\n",
       "  'default': None,\n",
       "  'description': 'URI, IP or hostname of this server'},\n",
       " {'arg': 'port',\n",
       "  'type': int,\n",
       "  'options': None,\n",
       "  'default': None,\n",
       "  'description': 'Serving port'},\n",
       " {'arg': 'interface',\n",
       "  'type': str,\n",
       "  'options': None,\n",
       "  'default': None,\n",
       "  'description': \"Preferred network interface like 'eth0' or ib0\"},\n",
       " {'arg': 'protocol',\n",
       "  'type': str,\n",
       "  'options': None,\n",
       "  'default': None,\n",
       "  'description': 'Protocol like tcp, tls, or ucx'},\n",
       " {'arg': 'tls-ca-file',\n",
       "  'type': str,\n",
       "  'options': None,\n",
       "  'default': None,\n",
       "  'description': 'CA cert(s) file for TLS (in PEM format)'},\n",
       " {'arg': 'tls-cert',\n",
       "  'type': str,\n",
       "  'options': None,\n",
       "  'default': None,\n",
       "  'description': 'certificate file for TLS (in PEM format)'},\n",
       " {'arg': 'tls-key',\n",
       "  'type': str,\n",
       "  'options': None,\n",
       "  'default': None,\n",
       "  'description': 'private key file for TLS (in PEM format)'},\n",
       " {'arg': 'dashboard-address',\n",
       "  'type': str,\n",
       "  'options': None,\n",
       "  'default': '8787',\n",
       "  'description': 'Address on which to listen for diagnostics dashboard  [default: :8787]'},\n",
       " {'arg': ['dashboard', 'no-dashboard'],\n",
       "  'type': 'binary',\n",
       "  'options': None,\n",
       "  'default': 'dashboard',\n",
       "  'description': 'Launch the Dashboard [default: --dashboard]'},\n",
       " {'arg': ['show', 'no-show'],\n",
       "  'type': 'binary',\n",
       "  'options': None,\n",
       "  'default': 'show',\n",
       "  'description': 'Show web UI [default: --show]'},\n",
       " {'arg': 'dashboard-prefix',\n",
       "  'type': str,\n",
       "  'options': None,\n",
       "  'default': None,\n",
       "  'description': 'Prefix for the dashboard app'},\n",
       " {'arg': 'use-xheaders',\n",
       "  'type': bool,\n",
       "  'options': None,\n",
       "  'default': False,\n",
       "  'description': 'User xheaders in dashboard app for ssl ermination in header  [default: False]'},\n",
       " {'arg': 'pid-file',\n",
       "  'type': str,\n",
       "  'options': None,\n",
       "  'default': None,\n",
       "  'description': 'File to write the process PID'},\n",
       " {'arg': 'scheduler-file',\n",
       "  'type': str,\n",
       "  'options': None,\n",
       "  'default': None,\n",
       "  'description': 'File to write connection information. This may be a good way to share connection information if your cluster is on a shared network file system.'},\n",
       " {'arg': 'preload',\n",
       "  'type': str,\n",
       "  'options': None,\n",
       "  'default': None,\n",
       "  'description': \"Module that should be loaded by the scheduler process  like 'foo.ba' or '/path/to/foo.py'.\"},\n",
       " {'arg': 'idle-timeout',\n",
       "  'type': str,\n",
       "  'options': None,\n",
       "  'default': None,\n",
       "  'description': 'Time of inactivity after which to kill the scheduler'}]"
      ]
     },
     "execution_count": 4,
     "metadata": {},
     "output_type": "execute_result"
    }
   ],
   "source": [
    "app_settings.dask_scheduler_options"
   ]
  },
  {
   "cell_type": "code",
   "execution_count": 6,
   "id": "5fbefbea-e535-4b7a-bd0f-5c0c00869288",
   "metadata": {},
   "outputs": [
    {
     "data": {
      "text/plain": [
       "[int, str, 'binary', bool]"
      ]
     },
     "execution_count": 6,
     "metadata": {},
     "output_type": "execute_result"
    }
   ],
   "source": [
    "schedulter_types = list(set([x['type'] for x in app_settings.dask_scheduler_options]))\n",
    "schedulter_types"
   ]
  },
  {
   "cell_type": "code",
   "execution_count": 7,
   "id": "949ac412-f775-486b-8b26-c35bd1bee0ab",
   "metadata": {},
   "outputs": [
    {
     "data": {
      "text/plain": [
       "[int, str, 'binary']"
      ]
     },
     "execution_count": 7,
     "metadata": {},
     "output_type": "execute_result"
    }
   ],
   "source": [
    "worker_types = list(set([x['type'] for x in app_settings.dask_worker_options]))\n",
    "worker_types"
   ]
  },
  {
   "cell_type": "code",
   "execution_count": 8,
   "id": "eb382d40-204e-42e2-b848-8f59de50ba2a",
   "metadata": {},
   "outputs": [
    {
     "data": {
      "text/plain": [
       "[int, str, 'binary', 'single-select']"
      ]
     },
     "execution_count": 8,
     "metadata": {},
     "output_type": "execute_result"
    }
   ],
   "source": [
    "cuda_worker_types = list(set([x['type'] for x in app_settings.dask_cuda_worker_options]))\n",
    "cuda_worker_types"
   ]
  },
  {
   "cell_type": "code",
   "execution_count": 9,
   "id": "044e315c-7127-47b7-92ee-0af0545ff581",
   "metadata": {},
   "outputs": [
    {
     "data": {
      "text/plain": [
       "{'arg': 'host',\n",
       " 'type': str,\n",
       " 'options': None,\n",
       " 'default': None,\n",
       " 'description': 'URI, IP or hostname of this server'}"
      ]
     },
     "execution_count": 9,
     "metadata": {},
     "output_type": "execute_result"
    }
   ],
   "source": [
    "app_settings.dask_scheduler_options[0]"
   ]
  },
  {
   "cell_type": "code",
   "execution_count": 11,
   "id": "81a57590-77f5-4f82-963e-14055b3735ab",
   "metadata": {},
   "outputs": [
    {
     "name": "stderr",
     "output_type": "stream",
     "text": [
      "2022-10-03 23:08:00.287 \n",
      "  \u001b[33m\u001b[1mWarning:\u001b[0m to view this Streamlit app on a browser, run it with the following\n",
      "  command:\n",
      "\n",
      "    streamlit run /home/jcosme/miniconda3/envs/dask-cuda-app/lib/python3.8/site-packages/ipykernel_launcher.py [ARGUMENTS]\n"
     ]
    },
    {
     "name": "stdout",
     "output_type": "stream",
     "text": [
      "<class 'str'>\n",
      "<class 'int'>\n",
      "<class 'str'>\n",
      "<class 'str'>\n",
      "<class 'str'>\n",
      "<class 'str'>\n",
      "<class 'str'>\n",
      "<class 'str'>\n",
      "binary\n",
      "binary\n",
      "<class 'str'>\n",
      "<class 'bool'>\n",
      "<class 'str'>\n",
      "<class 'str'>\n",
      "<class 'str'>\n",
      "<class 'str'>\n"
     ]
    }
   ],
   "source": [
    "user_selections = []\n",
    "for cur in app_settings.dask_scheduler_options:\n",
    "    cur_type = cur['type']\n",
    "    print(cur_type)\n",
    "    cur_arg = cur['arg']\n",
    "    cur_options = cur['options']\n",
    "    cur_default = cur['default']\n",
    "    cur_desc = cur['description']\n",
    "    \n",
    "    if cur_type == str:\n",
    "        cur_selection = st.text_input(\n",
    "            label=cur_arg,\n",
    "            value=cur_default,\n",
    "            help=cur_desc\n",
    "        )\n",
    "    \n",
    "    user_selections.append(cur_selection)\n",
    "            "
   ]
  },
  {
   "cell_type": "code",
   "execution_count": null,
   "id": "57c56e1b-c1bb-48ca-b8b9-26ed50a15af5",
   "metadata": {},
   "outputs": [],
   "source": []
  }
 ],
 "metadata": {
  "kernelspec": {
   "display_name": "dask-cuda-app",
   "language": "python",
   "name": "dask-cuda-app"
  },
  "language_info": {
   "codemirror_mode": {
    "name": "ipython",
    "version": 3
   },
   "file_extension": ".py",
   "mimetype": "text/x-python",
   "name": "python",
   "nbconvert_exporter": "python",
   "pygments_lexer": "ipython3",
   "version": "3.8.13"
  }
 },
 "nbformat": 4,
 "nbformat_minor": 5
}
